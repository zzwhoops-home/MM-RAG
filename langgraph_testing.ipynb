{
 "cells": [
  {
   "cell_type": "markdown",
   "id": "9e8523ba",
   "metadata": {},
   "source": [
    "# "
   ]
  },
  {
   "cell_type": "markdown",
   "id": "1b9a33ca",
   "metadata": {},
   "source": [
    "# LangGraph Testing\n",
    "I will be going through [this tutorial](https://langchain-ai.github.io/langgraph/tutorials/get-started/) to figure out how to build chatbots with LangGraph, and how that might be useful with PassionAI as well as learning it for internship work."
   ]
  },
  {
   "cell_type": "markdown",
   "id": "0f113082",
   "metadata": {},
   "source": [
    "## Importing packages & loading env"
   ]
  },
  {
   "cell_type": "code",
   "execution_count": 5,
   "id": "aaae988a",
   "metadata": {},
   "outputs": [],
   "source": [
    "from typing import Annotated\n",
    "\n",
    "from typing_extensions import TypedDict\n",
    "\n",
    "from langgraph.graph import StateGraph, START\n",
    "from langgraph.graph.message import add_messages\n",
    "from langchain.chat_models import init_chat_model\n",
    "\n",
    "import os\n",
    "from dotenv import load_dotenv\n",
    "\n",
    "# load env\n",
    "load_dotenv()\n",
    "\n",
    "OPENAI_API_KEY = os.getenv(\"OPENAI_KEY\")"
   ]
  },
  {
   "cell_type": "markdown",
   "id": "118370fa",
   "metadata": {},
   "source": [
    "## Setting up Basic LangGraph"
   ]
  },
  {
   "cell_type": "code",
   "execution_count": null,
   "id": "582445c0",
   "metadata": {},
   "outputs": [],
   "source": [
    "class State(TypedDict):\n",
    "    # Messages have the type \"list\". The `add_messages` function\n",
    "    # in the annotation defines how this state key should be updated\n",
    "    # (in this case, it appends messages to the list, rather than overwriting them)\n",
    "    messages: Annotated[list, add_messages]\n",
    "\n",
    "graph_builder = StateGraph(State)\n",
    "\n",
    "os.environ[\"OPENAI_API_KEY\"] = OPENAI_API_KEY\n",
    "llm = init_chat_model(\"openai:gpt-4o\")"
   ]
  }
 ],
 "metadata": {
  "kernelspec": {
   "display_name": "env",
   "language": "python",
   "name": "python3"
  },
  "language_info": {
   "codemirror_mode": {
    "name": "ipython",
    "version": 3
   },
   "file_extension": ".py",
   "mimetype": "text/x-python",
   "name": "python",
   "nbconvert_exporter": "python",
   "pygments_lexer": "ipython3",
   "version": "3.10.4"
  }
 },
 "nbformat": 4,
 "nbformat_minor": 5
}
