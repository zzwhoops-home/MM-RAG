{
 "cells": [
  {
   "cell_type": "markdown",
   "id": "673d19ed",
   "metadata": {},
   "source": [
    "# Pipeline Testing\n",
    "This file will be steps that will be required to convert uploaded files to MM vector embeddings using voyage-multimodal-3."
   ]
  },
  {
   "cell_type": "markdown",
   "id": "88018db9",
   "metadata": {},
   "source": [
    "## Imports\n",
    "Importing necessary files and getting important env vars below."
   ]
  },
  {
   "cell_type": "code",
   "execution_count": null,
   "id": "d64bc6f8",
   "metadata": {},
   "outputs": [],
   "source": [
    "import os, openai, pinecone-client, pymongo"
   ]
  },
  {
   "cell_type": "markdown",
   "id": "15905c8f",
   "metadata": {},
   "source": [
    "## Processing Files\n",
    "Taking uploaded files, converting to screenshot format.\n",
    "Needs to convert:\n",
    "- Text into screenshots\n",
    "- Images into screenshots without too much data\n",
    "- Audio should be transcribed & chunked, embed text and/or audio chunks\n",
    "- Video should have key frames sampled, transcribed audio"
   ]
  },
  {
   "cell_type": "markdown",
   "id": "fa62586c",
   "metadata": {},
   "source": [
    "### Processing Text\n",
    "I need to find a more effective way to chunk text documents"
   ]
  },
  {
   "cell_type": "code",
   "execution_count": null,
   "id": "06af7a13",
   "metadata": {},
   "outputs": [],
   "source": []
  }
 ],
 "metadata": {
  "language_info": {
   "name": "python"
  }
 },
 "nbformat": 4,
 "nbformat_minor": 5
}
