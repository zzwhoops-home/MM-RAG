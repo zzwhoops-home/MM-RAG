{
 "cells": [
  {
   "cell_type": "markdown",
   "id": "9e8523ba",
   "metadata": {},
   "source": [
    "# "
   ]
  },
  {
   "cell_type": "markdown",
   "id": "1b9a33ca",
   "metadata": {},
   "source": [
    "# LangGraph Testing\n",
    "I will be going through [this tutorial](https://langchain-ai.github.io/langgraph/tutorials/get-started/1-build-basic-chatbot/) to figure out how to build chatbots with LangGraph, and how that might be useful with PassionAI as well as learning it for internship work."
   ]
  },
  {
   "cell_type": "markdown",
   "id": "0f113082",
   "metadata": {},
   "source": [
    "## Importing packages & loading env"
   ]
  },
  {
   "cell_type": "code",
   "execution_count": 1,
   "id": "aaae988a",
   "metadata": {},
   "outputs": [],
   "source": [
    "from typing import Annotated\n",
    "\n",
    "from typing_extensions import TypedDict\n",
    "\n",
    "from langgraph.graph import StateGraph, START, END\n",
    "from langgraph.graph.message import add_messages\n",
    "from langchain.chat_models import init_chat_model\n",
    "from langchain_core.messages import ToolMessage\n",
    "\n",
    "import os, json\n",
    "from dotenv import load_dotenv\n",
    "\n",
    "from IPython.display import Image, display\n",
    "\n",
    "# load env\n",
    "load_dotenv()\n",
    "\n",
    "OPENAI_API_KEY = os.getenv(\"OPENAI_KEY\")\n",
    "TAVILY_API_KEY = os.getenv(\"TAVILY_KEY\")"
   ]
  },
  {
   "cell_type": "markdown",
   "id": "118370fa",
   "metadata": {},
   "source": [
    "## Setting up Basic LangGraph\n",
    "- Setting up `StateGraph` which will be the workflow of the chatbot\n",
    "- Setting `OPENAI_API_KEY` as an environment variable\n",
    "- Initializing `GPT-4o` chat model with `init_chat_model`"
   ]
  },
  {
   "cell_type": "code",
   "execution_count": 2,
   "id": "582445c0",
   "metadata": {},
   "outputs": [],
   "source": [
    "class State(TypedDict):\n",
    "    # Messages have the type \"list\". The `add_messages` function\n",
    "    # in the annotation defines how this state key should be updated\n",
    "    # (in this case, it appends messages to the list, rather than overwriting them)\n",
    "    messages: Annotated[list, add_messages]\n",
    "\n",
    "graph_builder = StateGraph(State)\n",
    "\n",
    "os.environ[\"OPENAI_API_KEY\"] = OPENAI_API_KEY\n",
    "llm = init_chat_model(\"openai:gpt-4o\")"
   ]
  },
  {
   "cell_type": "markdown",
   "id": "2f854b40",
   "metadata": {},
   "source": [
    "## Adding Nodes\n",
    "- Adding a chatbot node to the `StateGraph`\n",
    "    - `llm.invoke()` is the equivalent of making an API call to OpenAI (or the LLM of choice) and extracting the message content\n",
    "    - `state[\"messages\"]` is an instance of `State` we defined in the last code block\n",
    "    - The `graph_builder` above has `StateGraph(State)`, which means the StateGraph can receive a `State` as input and output an update to that `State`\n",
    "    - So, we return `\"messages\"` to update the `State`. The `add_messages` function when we defined `messages` as `Annotated` will append messages instead of overwriting\n",
    "    - We then finally add this function and associate it with a node we name \"chatbot\"\n",
    "- `START` defines the point where the chatbot will start per run\n",
    "    - `add_edge` defines a directed edge, otherwise the nodes are just floating around\n",
    "- We then compile from the graph builder"
   ]
  },
  {
   "cell_type": "code",
   "execution_count": 4,
   "id": "66f13bed",
   "metadata": {},
   "outputs": [],
   "source": [
    "def chatbot(state: State):\n",
    "    res = llm.invoke(state[\"messages\"])\n",
    "    return {\"messages\": [res]}\n",
    "\n",
    "# add node with name \"chatbot\" and function chatbot\n",
    "graph_builder.add_node(\"chatbot\", chatbot)\n",
    "graph_builder.add_edge(START, \"chatbot\") # start node\n",
    "\n",
    "# compile graph\n",
    "graph = graph_builder.compile()"
   ]
  },
  {
   "cell_type": "markdown",
   "id": "6842b7e5",
   "metadata": {},
   "source": [
    "Displaying graph separately so we don't try to add nodes twice in the same kernel instance."
   ]
  },
  {
   "cell_type": "code",
   "execution_count": 5,
   "id": "e5b00e93",
   "metadata": {},
   "outputs": [
    {
     "data": {
      "image/png": "[encoded data removed]",
      "text/plain": [
       "<IPython.core.display.Image object>"
      ]
     },
     "metadata": {},
     "output_type": "display_data"
    }
   ],
   "source": [
    "# display graph\n",
    "display(Image(graph.get_graph().draw_mermaid_png()))"
   ]
  },
  {
   "cell_type": "markdown",
   "id": "a28ed22c",
   "metadata": {},
   "source": [
    "## Part 2: LangGraph w/ Tavily Search\n",
    "- In this step we use `TavilySearch`, a package designed for searching for information an AI does not know\n",
    "- We create a new node with function `chatbot_tools`\n",
    "- We bind tools to the LLM (OpenAI in this case) with `llm.bind_tools(list of tools)`"
   ]
  },
  {
   "cell_type": "code",
   "execution_count": null,
   "id": "026627a3",
   "metadata": {},
   "outputs": [],
   "source": [
    "from langchain_tavily import TavilySearch\n",
    "\n",
    "os.environ[\"TAVILY_API_KEY\"] = TAVILY_API_KEY\n",
    "tool = TavilySearch(max_results=2)\n",
    "# print(tool.name) # i guess we need to include the tool name\n",
    "tools = [tool]\n",
    "# a = tool.invoke(\"What is Trump's tariff equation?\")\n",
    "\n",
    "def chatbot_tools(state: State):\n",
    "    res = llm_with_tools.invoke(state[\"messages\"])\n",
    "    # Because we will be interrupting during tool execution,\n",
    "    # we disable parallel tool calling to avoid repeating any\n",
    "    # tool invocations when we resume.\n",
    "    assert len(res.tool_calls) <= 1\n",
    "    return {\"messages\": [res]}\n",
    "\n",
    "graph_builder = StateGraph(State)\n",
    "\n",
    "graph_builder.add_node(\"chatbot_tools\", chatbot_tools)\n",
    "graph_builder.add_edge(START, \"chatbot_tools\")\n",
    "\n",
    "# llm with tools\n",
    "llm_with_tools = llm.bind_tools(tools)"
   ]
  },
  {
   "cell_type": "markdown",
   "id": "2baa41e8",
   "metadata": {},
   "source": [
    "## Defining a Tool Node\n",
    "- We can use a prebuilt `ToolNode` but the following example shows what is going on underneath"
   ]
  },
  {
   "cell_type": "code",
   "execution_count": null,
   "id": "2de95ae0",
   "metadata": {},
   "outputs": [],
   "source": [
    "class BasicToolNode:\n",
    "    \"\"\"A node that runs the tools requested in the last AIMessage.\"\"\"\n",
    "\n",
    "    def __init__(self, tools: list) -> None:\n",
    "        self.tools_by_name = {tool.name: tool for tool in tools}\n",
    "\n",
    "    def __call__(self, inputs: dict):\n",
    "        if messages := inputs.get(\"messages\", []):\n",
    "            message = messages[-1]\n",
    "        else:\n",
    "            raise ValueError(\"No message found in input\")\n",
    "        outputs = []\n",
    "        for tool_call in message.tool_calls:\n",
    "            tool_result = self.tools_by_name[tool_call[\"name\"]].invoke(\n",
    "                tool_call[\"args\"]\n",
    "            )\n",
    "            outputs.append(\n",
    "                ToolMessage(\n",
    "                    content=json.dumps(tool_result),\n",
    "                    name=tool_call[\"name\"],\n",
    "                    tool_call_id=tool_call[\"id\"],\n",
    "                )\n",
    "            )\n",
    "        return {\"messages\": outputs}\n",
    "\n",
    "# create node and add it to our graph builder\n",
    "tool_node = BasicToolNode(tools=[tool])\n",
    "graph_builder.add_node(\"tools\", tool_node)\n",
    "\n",
    "def route_tools(\n",
    "    state: State,\n",
    "):\n",
    "    \"\"\"\n",
    "    Use in the conditional_edge to route to the ToolNode if the last message\n",
    "    has tool calls. Otherwise, route to the end.\n",
    "    \"\"\"\n",
    "    if isinstance(state, list):\n",
    "        ai_message = state[-1]\n",
    "    elif messages := state.get(\"messages\", []):\n",
    "        ai_message = messages[-1]\n",
    "    else:\n",
    "        raise ValueError(f\"No messages found in input state to tool_edge: {state}\")\n",
    "    if hasattr(ai_message, \"tool_calls\") and len(ai_message.tool_calls) > 0:\n",
    "        return \"tools\"\n",
    "    return END\n",
    "\n",
    "\n",
    "# The `tools_condition` function returns \"tools\" if the chatbot asks to use a tool, and \"END\" if\n",
    "# it is fine directly responding. This conditional routing defines the main agent loop.\n",
    "graph_builder.add_conditional_edges(\n",
    "    \"chatbot_tools\",\n",
    "    route_tools, # instead of a node, use \"route_tools\" to determine the node we wish to go to\n",
    "    # The following dictionary lets you tell the graph to interpret the condition's outputs as a specific node\n",
    "    # It defaults to the identity function, but if you\n",
    "    # want to use a node named something else apart from \"tools\",\n",
    "    # You can update the value of the dictionary to something else\n",
    "    # e.g., \"tools\": \"my_tools\"\n",
    "    {\"tools\": \"tools\", END: END},\n",
    ")\n",
    "# Any time a tool is called, we return to the chatbot to decide the next step\n",
    "graph_builder.add_edge(\"tools\", \"chatbot_tools\")\n",
    "graph_builder.add_edge(START, \"chatbot_tools\")\n",
    "graph = graph_builder.compile()"
   ]
  },
  {
   "cell_type": "markdown",
   "id": "e1f9a703",
   "metadata": {},
   "source": [
    "## Tool Node with prebuilt components\n",
    "- `ToolNode` replaces `BasicToolNode`\n",
    "- `tools_condition` replaces `route_tools`"
   ]
  },
  {
   "cell_type": "code",
   "execution_count": null,
   "id": "388eebf6",
   "metadata": {},
   "outputs": [],
   "source": [
    "from langgraph.prebuilt import ToolNode, tools_condition\n",
    "\n",
    "# create node and add it to our graph builder\n",
    "tool_node = ToolNode(tools=[tool])\n",
    "graph_builder.add_node(\"tools\", tool_node)\n",
    "\n",
    "# The `tools_condition` function returns \"tools\" if the chatbot asks to use a tool, and \"END\" if\n",
    "# it is fine directly responding. This conditional routing defines the main agent loop.\n",
    "graph_builder.add_conditional_edges(\n",
    "    \"chatbot_tools\",\n",
    "    tools_condition\n",
    ")\n",
    "\n",
    "# Any time a tool is called, we return to the chatbot to decide the next step\n",
    "graph_builder.add_edge(\"tools\", \"chatbot_tools\")\n",
    "graph_builder.add_edge(START, \"chatbot_tools\")\n",
    "graph = graph_builder.compile()"
   ]
  },
  {
   "cell_type": "markdown",
   "id": "8a2c8ab3",
   "metadata": {},
   "source": [
    "Again, drawing the graph separately"
   ]
  },
  {
   "cell_type": "code",
   "execution_count": 16,
   "id": "c9119961",
   "metadata": {},
   "outputs": [
    {
     "data": {
      "image/png": "[encoded data removed]",
      "text/plain": [
       "<IPython.core.display.Image object>"
      ]
     },
     "metadata": {},
     "output_type": "display_data"
    }
   ],
   "source": [
    "display(Image(graph.get_graph().draw_mermaid_png()))"
   ]
  },
  {
   "cell_type": "markdown",
   "id": "c8072bc5",
   "metadata": {},
   "source": [
    "## Part 3: Add memory\n",
    "- We use an in-memory `MemorySaver`, but there seems to be SQL and Postgres integrations"
   ]
  },
  {
   "cell_type": "code",
   "execution_count": 18,
   "id": "44426d28",
   "metadata": {},
   "outputs": [
    {
     "data": {
      "image/png": "[encoded data removed]",
      "text/plain": [
       "<IPython.core.display.Image object>"
      ]
     },
     "metadata": {},
     "output_type": "display_data"
    }
   ],
   "source": [
    "from langgraph.checkpoint.memory import MemorySaver\n",
    "\n",
    "memory = MemorySaver()\n",
    "\n",
    "graph = graph_builder.compile(checkpointer=memory)\n",
    "display(Image(graph.get_graph().draw_mermaid_png()))\n"
   ]
  },
  {
   "cell_type": "markdown",
   "id": "26794ac0",
   "metadata": {},
   "source": [
    "## Interacting with memory-enabled chatbot\n",
    "- Configure a thread ID (any string)\n",
    "- Ask chatbot, provide information\n",
    "- Ask follow-up question"
   ]
  },
  {
   "cell_type": "code",
   "execution_count": null,
   "id": "e5864c37",
   "metadata": {},
   "outputs": [
    {
     "name": "stdout",
     "output_type": "stream",
     "text": [
      "================================\u001b[1m Human Message \u001b[0m=================================\n",
      "\n",
      "What is my name?\n",
      "==================================\u001b[1m Ai Message \u001b[0m==================================\n",
      "\n",
      "Your name is Zach. How can I assist you today?\n"
     ]
    }
   ],
   "source": [
    "config = {\n",
    "    \"configurable\": {\n",
    "        \"thread_id\": \"zd@5rock.org-ai-1\" # change this to change to a \"different\" thread of memory\n",
    "    }\n",
    "}\n",
    "\n",
    "user_input = input(\"Enter your query: \")\n",
    "\n",
    "# The config is the **second positional argument** to stream() or invoke()!\n",
    "events = graph.stream(\n",
    "    input={\"messages\": [{\"role\": \"user\", \"content\": user_input}]},\n",
    "    config=config,\n",
    "    stream_mode=\"values\"\n",
    ")\n",
    "for event in events:\n",
    "    event[\"messages\"][-1].pretty_print()"
   ]
  },
  {
   "cell_type": "code",
   "execution_count": 26,
   "id": "a094eed7",
   "metadata": {},
   "outputs": [
    {
     "data": {
      "text/plain": [
       "StateSnapshot(values={'messages': [HumanMessage(content='Hi', additional_kwargs={}, response_metadata={}, id='67942191-f30d-4bbd-aee4-8c200b2b1814'), AIMessage(content='Hello! How can I assist you today?', additional_kwargs={'refusal': None}, response_metadata={'token_usage': {'completion_tokens': 11, 'prompt_tokens': 768, 'total_tokens': 779, 'completion_tokens_details': {'accepted_prediction_tokens': 0, 'audio_tokens': 0, 'reasoning_tokens': 0, 'rejected_prediction_tokens': 0}, 'prompt_tokens_details': {'audio_tokens': 0, 'cached_tokens': 0}}, 'model_name': 'gpt-4o-2024-08-06', 'system_fingerprint': 'fp_f5bdcc3276', 'id': 'chatcmpl-BWTJlyqTYJ3PQRswwItPfNzU97rhg', 'service_tier': 'default', 'finish_reason': 'stop', 'logprobs': None}, id='run--097c071b-9fad-406d-bf48-7bd7ff861aea-0', usage_metadata={'input_tokens': 768, 'output_tokens': 11, 'total_tokens': 779, 'input_token_details': {'audio': 0, 'cache_read': 0}, 'output_token_details': {'audio': 0, 'reasoning': 0}}), HumanMessage(content='Do you know my name?', additional_kwargs={}, response_metadata={}, id='d147573a-8f39-4bef-805e-0d3aa514ef79'), AIMessage(content=\"I'm sorry, but I don't know your name. How can I assist you today?\", additional_kwargs={'refusal': None}, response_metadata={'token_usage': {'completion_tokens': 19, 'prompt_tokens': 791, 'total_tokens': 810, 'completion_tokens_details': {'accepted_prediction_tokens': 0, 'audio_tokens': 0, 'reasoning_tokens': 0, 'rejected_prediction_tokens': 0}, 'prompt_tokens_details': {'audio_tokens': 0, 'cached_tokens': 0}}, 'model_name': 'gpt-4o-2024-08-06', 'system_fingerprint': 'fp_f5bdcc3276', 'id': 'chatcmpl-BWTJysIvOdyKnYLmjeJGfwtHknsyP', 'service_tier': 'default', 'finish_reason': 'stop', 'logprobs': None}, id='run--9ebb43bf-9a38-4f27-9ab7-0a1ba69e00f2-0', usage_metadata={'input_tokens': 791, 'output_tokens': 19, 'total_tokens': 810, 'input_token_details': {'audio': 0, 'cache_read': 0}, 'output_token_details': {'audio': 0, 'reasoning': 0}}), HumanMessage(content='Hi, my name is Zach!', additional_kwargs={}, response_metadata={}, id='f4cb737c-30eb-43fe-8f46-5302c5584519'), AIMessage(content=\"Hi Zach! It's great to meet you. How can I assist you today?\", additional_kwargs={'refusal': None}, response_metadata={'token_usage': {'completion_tokens': 18, 'prompt_tokens': 823, 'total_tokens': 841, 'completion_tokens_details': {'accepted_prediction_tokens': 0, 'audio_tokens': 0, 'reasoning_tokens': 0, 'rejected_prediction_tokens': 0}, 'prompt_tokens_details': {'audio_tokens': 0, 'cached_tokens': 0}}, 'model_name': 'gpt-4o-2024-08-06', 'system_fingerprint': 'fp_f5bdcc3276', 'id': 'chatcmpl-BWTKMK9CpKbt9mEvsyUndzVIG8cas', 'service_tier': 'default', 'finish_reason': 'stop', 'logprobs': None}, id='run--43ec0906-d41d-43a0-821f-f91fad56500b-0', usage_metadata={'input_tokens': 823, 'output_tokens': 18, 'total_tokens': 841, 'input_token_details': {'audio': 0, 'cache_read': 0}, 'output_token_details': {'audio': 0, 'reasoning': 0}}), HumanMessage(content='What is my name?', additional_kwargs={}, response_metadata={}, id='e7c2d3d0-f567-4926-bbf7-d8cb1ec8b572'), AIMessage(content='Your name is Zach. How can I assist you today?', additional_kwargs={'refusal': None}, response_metadata={'token_usage': {'completion_tokens': 14, 'prompt_tokens': 852, 'total_tokens': 866, 'completion_tokens_details': {'accepted_prediction_tokens': 0, 'audio_tokens': 0, 'reasoning_tokens': 0, 'rejected_prediction_tokens': 0}, 'prompt_tokens_details': {'audio_tokens': 0, 'cached_tokens': 0}}, 'model_name': 'gpt-4o-2024-08-06', 'system_fingerprint': 'fp_f5bdcc3276', 'id': 'chatcmpl-BWTKyM6doQ1vVL4hgCsstopyesgoO', 'service_tier': 'default', 'finish_reason': 'stop', 'logprobs': None}, id='run--9eaafdda-5e8e-40e3-9afa-f86ec53c57f8-0', usage_metadata={'input_tokens': 852, 'output_tokens': 14, 'total_tokens': 866, 'input_token_details': {'audio': 0, 'cache_read': 0}, 'output_token_details': {'audio': 0, 'reasoning': 0}})]}, next=(), config={'configurable': {'thread_id': 'zd@5rock.org-ai-1', 'checkpoint_ns': '', 'checkpoint_id': '1f02f694-94dc-6d35-800a-2a839026069e'}}, metadata={'source': 'loop', 'writes': {'chatbot_tools': {'messages': [AIMessage(content='Your name is Zach. How can I assist you today?', additional_kwargs={'refusal': None}, response_metadata={'token_usage': {'completion_tokens': 14, 'prompt_tokens': 852, 'total_tokens': 866, 'completion_tokens_details': {'accepted_prediction_tokens': 0, 'audio_tokens': 0, 'reasoning_tokens': 0, 'rejected_prediction_tokens': 0}, 'prompt_tokens_details': {'audio_tokens': 0, 'cached_tokens': 0}}, 'model_name': 'gpt-4o-2024-08-06', 'system_fingerprint': 'fp_f5bdcc3276', 'id': 'chatcmpl-BWTKyM6doQ1vVL4hgCsstopyesgoO', 'service_tier': 'default', 'finish_reason': 'stop', 'logprobs': None}, id='run--9eaafdda-5e8e-40e3-9afa-f86ec53c57f8-0', usage_metadata={'input_tokens': 852, 'output_tokens': 14, 'total_tokens': 866, 'input_token_details': {'audio': 0, 'cache_read': 0}, 'output_token_details': {'audio': 0, 'reasoning': 0}})]}}, 'step': 10, 'parents': {}, 'thread_id': 'zd@5rock.org-ai-1'}, created_at='2025-05-12T19:42:49.639250+00:00', parent_config={'configurable': {'thread_id': 'zd@5rock.org-ai-1', 'checkpoint_ns': '', 'checkpoint_id': '1f02f694-86c0-6efb-8009-c8783071d8af'}}, tasks=(), interrupts=())"
      ]
     },
     "execution_count": 26,
     "metadata": {},
     "output_type": "execute_result"
    }
   ],
   "source": [
    "snapshot = graph.get_state(config)\n",
    "snapshot"
   ]
  },
  {
   "cell_type": "markdown",
   "id": "bcd41d58",
   "metadata": {},
   "source": [
    "## Part 4 & 5: Human-in-the-loop, custom state\n",
    "- Despite the initial difficulty of setting up tools, adding another tool is as simple as creating a function with a `@tool` decorator, and adding it to the list of tools\n",
    "- We can update the `State` to track many things at once, updating it and asking the human to confirm whether or not the information is correct\n",
    "\n",
    "To simplify things, we will copy-paste the code from LangGraph because many variables are spread out over a bunch of code blocks at this point.\n",
    "\n",
    "The workflow is as follows:\n",
    "1. Everything pauses with `interrupt`. The graph is paused as well as the tool being run. (`human_assistance(...)` in this case)\n",
    "2. Everything resumes with `Command(resume={...})`.\n",
    "3. The function can continue now, and we will reach an `Command(update={...})` which will update the current state explicitly."
   ]
  },
  {
   "cell_type": "code",
   "execution_count": null,
   "id": "233f8711",
   "metadata": {},
   "outputs": [
    {
     "data": {
      "text/plain": [
       "<langgraph.graph.state.StateGraph at 0x26434990ac0>"
      ]
     },
     "execution_count": 73,
     "metadata": {},
     "output_type": "execute_result"
    }
   ],
   "source": [
    "from typing import Annotated\n",
    "\n",
    "from langchain_tavily import TavilySearch\n",
    "from typing_extensions import TypedDict\n",
    "\n",
    "from langgraph.checkpoint.memory import MemorySaver\n",
    "from langgraph.graph import StateGraph, START, END\n",
    "from langgraph.graph.message import add_messages\n",
    "from langgraph.prebuilt import ToolNode, tools_condition\n",
    "\n",
    "# for this section\n",
    "from langchain_core.messages import ToolMessage\n",
    "from langchain_core.tools import InjectedToolCallId, tool\n",
    "\n",
    "from langgraph.types import Command, interrupt\n",
    "\n",
    "class State(TypedDict):\n",
    "    messages: Annotated[list, add_messages]\n",
    "    name: str\n",
    "    top_passion: str\n",
    "\n",
    "graph_builder = StateGraph(State)\n",
    "\n",
    "# @tool\n",
    "# def human_assistance(query: str) -> str:\n",
    "#     \"\"\"Request assistance from a human.\"\"\"\n",
    "#     human_response = interrupt({\"query\": query})\n",
    "#     return human_response[\"data\"]\n",
    "\n",
    "@tool\n",
    "def human_assistance(name: str, top_passion: str, tool_call_id: Annotated[str, InjectedToolCallId]) -> str:\n",
    "    \"\"\"Request assistance from a human\"\"\"\n",
    "\n",
    "    # interrupt with question and confirmation prompt\n",
    "    # execution of both function and graph paused\n",
    "    human_response = interrupt({\n",
    "        \"question\": \"Please verify that the information below is correct: \",\n",
    "        \"name\": name,\n",
    "        \"top_passion\": top_passion\n",
    "    })\n",
    "\n",
    "    # if the information is correct, update the state without changes\n",
    "    if human_response.get(\"correct\", \"\").lower() in [\"yes\", \"y\"]:\n",
    "        verified_name = name\n",
    "        verified_top_passion = top_passion\n",
    "        response = \"Correct\"\n",
    "    # otherwise, update from user input (hard-coded here, but can be handled as input)\n",
    "    else:\n",
    "        verified_name = human_response.get(\"name\", name) # default to previous if nothing is provided\n",
    "        verified_top_passion = human_response.get(\"top_passion\", top_passion)\n",
    "        response = f\"Human made a correction: {human_response}\"\n",
    "\n",
    "    # explicitly update state with ToolMessage\n",
    "    state_update = {\n",
    "        \"name\": verified_name,\n",
    "        \"top_passion\": verified_top_passion,\n",
    "        \"messages\": [ToolMessage(response, tool_call_id=tool_call_id)]\n",
    "    }\n",
    "    print(state_update)\n",
    "\n",
    "    # return human_response[\"data\"]\n",
    "    # in the previous example, human_response[\"data\"] would have returned the human response (just a string)\n",
    "    return Command(update=state_update)\n",
    "\n",
    "tool = TavilySearch(max_results=2)\n",
    "tools = [tool, human_assistance] # both tools now can be used by LangGraph\n",
    "llm_with_tools = llm.bind_tools(tools)\n",
    "\n",
    "def chatbot(state: State):\n",
    "    message = llm_with_tools.invoke(state[\"messages\"])\n",
    "    # Because we will be interrupting during tool execution,\n",
    "    # we disable parallel tool calling to avoid repeating any\n",
    "    # tool invocations when we resume.\n",
    "    assert len(message.tool_calls) <= 1\n",
    "    return {\"messages\": [message]}\n",
    "\n",
    "graph_builder.add_node(\"chatbot\", chatbot)\n",
    "\n",
    "tool_node = ToolNode(tools=tools)\n",
    "graph_builder.add_node(\"tools\", tool_node)\n",
    "\n",
    "graph_builder.add_conditional_edges(\n",
    "    \"chatbot\",\n",
    "    tools_condition,\n",
    ")\n",
    "graph_builder.add_edge(\"tools\", \"chatbot\")\n",
    "graph_builder.add_edge(START, \"chatbot\")"
   ]
  },
  {
   "cell_type": "markdown",
   "id": "29731ec2",
   "metadata": {},
   "source": [
    "Now, we build the graph as before:"
   ]
  },
  {
   "cell_type": "code",
   "execution_count": 74,
   "id": "dbafda32",
   "metadata": {},
   "outputs": [
    {
     "data": {
      "image/png": "[encoded data removed]",
      "text/plain": [
       "<IPython.core.display.Image object>"
      ]
     },
     "metadata": {},
     "output_type": "display_data"
    }
   ],
   "source": [
    "memory = MemorySaver()\n",
    "\n",
    "graph = graph_builder.compile(checkpointer=memory)\n",
    "display(Image(graph.get_graph().draw_mermaid_png()))"
   ]
  },
  {
   "cell_type": "markdown",
   "id": "2d5bead3",
   "metadata": {},
   "source": [
    "We can then test the chatbot with a question that will require human input."
   ]
  },
  {
   "cell_type": "code",
   "execution_count": 68,
   "id": "9a1f8150",
   "metadata": {},
   "outputs": [
    {
     "name": "stdout",
     "output_type": "stream",
     "text": [
      "================================\u001b[1m Human Message \u001b[0m=================================\n",
      "\n",
      "Can you look up the top passion for me, Zachary Deng? When you have the answer, use the human_assistance tool for review. \n",
      "==================================\u001b[1m Ai Message \u001b[0m==================================\n",
      "Tool Calls:\n",
      "  human_assistance (call_twiQb9fPVn7BmLioTf4ZJABP)\n",
      " Call ID: call_twiQb9fPVn7BmLioTf4ZJABP\n",
      "  Args:\n",
      "    name: Zachary Deng\n",
      "    top_passion: Saving\n"
     ]
    }
   ],
   "source": [
    "config = {\"configurable\": {\"thread_id\": \"zd@5rock.org-ai-2\"}}\n",
    "# user_input = \"I need to speak to someone who can speak at length about fluffy space cats.\"\n",
    "user_input = (\n",
    "    \"Can you look up the top passion for me, Zachary Deng? \"\n",
    "    \"When you have the answer, use the human_assistance tool for review. \"\n",
    ")\n",
    "\n",
    "events = graph.stream(\n",
    "    {\"messages\": [{\"role\": \"user\", \"content\": user_input}]},\n",
    "    config,\n",
    "    stream_mode=\"values\",\n",
    ")\n",
    "for event in events:\n",
    "    if \"messages\" in event:\n",
    "        event[\"messages\"][-1].pretty_print()"
   ]
  },
  {
   "cell_type": "code",
   "execution_count": 55,
   "id": "2d243e24",
   "metadata": {},
   "outputs": [
    {
     "data": {
      "text/plain": [
       "('tools',)"
      ]
     },
     "execution_count": 55,
     "metadata": {},
     "output_type": "execute_result"
    }
   ],
   "source": [
    "snapshot = graph.get_state(config)\n",
    "snapshot.next"
   ]
  },
  {
   "cell_type": "markdown",
   "id": "de2a8824",
   "metadata": {},
   "source": [
    "We will simulate getting human input. Examples for both cases: a simple `State` with just a message array, and a complex `State` with `'name'` and `'top_passion'` fields are included."
   ]
  },
  {
   "cell_type": "code",
   "execution_count": 63,
   "id": "f7fb977c",
   "metadata": {},
   "outputs": [
    {
     "name": "stdout",
     "output_type": "stream",
     "text": [
      "==================================\u001b[1m Ai Message \u001b[0m==================================\n",
      "Tool Calls:\n",
      "  human_assistance (call_abrO73iPuknNQAsO5Si8RjwY)\n",
      " Call ID: call_abrO73iPuknNQAsO5Si8RjwY\n",
      "  Args:\n",
      "    name: Zachary Deng\n",
      "    top_passion: Zachary Deng is passionate about the intersection between games and AI, aiming to create fun, educational experiences that leverage technological advancements to bring people together. Additionally, he enjoys designing and writing software.\n",
      "{'name': 'Zachary Deng', 'top_passion': 'Saving', 'messages': [ToolMessage(content=\"Human made a correction: {'name': 'Zachary Deng', 'top_passion': 'Saving'}\", tool_call_id='call_abrO73iPuknNQAsO5Si8RjwY')]}\n",
      "=================================\u001b[1m Tool Message \u001b[0m=================================\n",
      "Name: human_assistance\n",
      "\n",
      "Human made a correction: {'name': 'Zachary Deng', 'top_passion': 'Saving'}\n",
      "==================================\u001b[1m Ai Message \u001b[0m==================================\n",
      "\n",
      "Zachary Deng's top passion has been corrected to \"Saving.\" If you have any further questions or need assistance, feel free to ask!\n"
     ]
    }
   ],
   "source": [
    "# human_response = (\n",
    "#     \"Yes, fluffy space cats are just like cats, except they are extremely fluffy, colored either light green or turquoise.\"\n",
    "#     \" They do not require a space suit to breathe, but require a near-complete absence of oxygen to survive, as oxygen will cause them to suffocate.\"\n",
    "# )\n",
    "# human_command = Command(resume={\"data\": human_response})\n",
    "\n",
    "human_command = Command(\n",
    "    resume={\n",
    "        \"name\": \"Zachary Deng\",\n",
    "        \"top_passion\": \"Saving\"\n",
    "    }\n",
    ")\n",
    "\n",
    "events = graph.stream(\n",
    "    human_command,\n",
    "    config,\n",
    "    stream_mode=\"values\"\n",
    ")\n",
    "for event in events:\n",
    "    if \"messages\" in event:\n",
    "        event[\"messages\"][-1].pretty_print()"
   ]
  },
  {
   "cell_type": "markdown",
   "id": "d8622bc2",
   "metadata": {},
   "source": [
    "See that the values have been updated."
   ]
  },
  {
   "cell_type": "code",
   "execution_count": 66,
   "id": "cd20a1d1",
   "metadata": {},
   "outputs": [
    {
     "data": {
      "text/plain": [
       "{'name': 'Zechariah Dengerous the Third', 'top_passion': 'Saving'}"
      ]
     },
     "execution_count": 66,
     "metadata": {},
     "output_type": "execute_result"
    }
   ],
   "source": [
    "snapshot = graph.get_state(config)\n",
    "\n",
    "{k: v for k, v in snapshot.values.items() if k in (\"name\", \"top_passion\")}"
   ]
  },
  {
   "cell_type": "markdown",
   "id": "ec85cd35",
   "metadata": {},
   "source": [
    "You can even override manually."
   ]
  },
  {
   "cell_type": "code",
   "execution_count": 65,
   "id": "e253ecf4",
   "metadata": {},
   "outputs": [
    {
     "data": {
      "text/plain": [
       "{'configurable': {'thread_id': 'zd@5rock.org-ai-2',\n",
       "  'checkpoint_ns': '',\n",
       "  'checkpoint_id': '1f02f7c0-eb53-670c-8006-5d14624e5f95'}}"
      ]
     },
     "execution_count": 65,
     "metadata": {},
     "output_type": "execute_result"
    }
   ],
   "source": [
    "graph.update_state(config, {\"name\": \"Zechariah Dengerous the Third\"})"
   ]
  },
  {
   "cell_type": "markdown",
   "id": "8f011135",
   "metadata": {},
   "source": [
    "## Part 6: Time Travel\n",
    "This part will use a simple LLM without tools."
   ]
  },
  {
   "cell_type": "code",
   "execution_count": 76,
   "id": "16867664",
   "metadata": {},
   "outputs": [],
   "source": [
    "import os\n",
    "from langchain.chat_models import init_chat_model\n",
    "\n",
    "llm = init_chat_model(\"openai:gpt-4o\")\n",
    "\n",
    "from typing import Annotated\n",
    "\n",
    "from langchain_tavily import TavilySearch\n",
    "from langchain_core.messages import BaseMessage\n",
    "from typing_extensions import TypedDict\n",
    "\n",
    "from langgraph.checkpoint.memory import MemorySaver\n",
    "from langgraph.graph import StateGraph, START, END\n",
    "from langgraph.graph.message import add_messages\n",
    "from langgraph.prebuilt import ToolNode, tools_condition\n",
    "\n",
    "class State(TypedDict):\n",
    "    messages: Annotated[list, add_messages]\n",
    "\n",
    "graph_builder = StateGraph(State)\n",
    "\n",
    "tool = TavilySearch(max_results=2)\n",
    "tools = [tool]\n",
    "llm_with_tools = llm.bind_tools(tools)\n",
    "\n",
    "def chatbot(state: State):\n",
    "    return {\"messages\": [llm_with_tools.invoke(state[\"messages\"])]}\n",
    "\n",
    "graph_builder.add_node(\"chatbot\", chatbot)\n",
    "\n",
    "tool_node = ToolNode(tools=[tool])\n",
    "graph_builder.add_node(\"tools\", tool_node)\n",
    "\n",
    "graph_builder.add_conditional_edges(\n",
    "    \"chatbot\",\n",
    "    tools_condition,\n",
    ")\n",
    "graph_builder.add_edge(\"tools\", \"chatbot\")\n",
    "graph_builder.add_edge(START, \"chatbot\")\n",
    "\n",
    "memory = MemorySaver()\n",
    "graph = graph_builder.compile(checkpointer=memory)"
   ]
  },
  {
   "cell_type": "markdown",
   "id": "9c74878e",
   "metadata": {},
   "source": [
    "Adding steps to the graph."
   ]
  },
  {
   "cell_type": "code",
   "execution_count": 77,
   "id": "f3bc7753",
   "metadata": {},
   "outputs": [
    {
     "name": "stdout",
     "output_type": "stream",
     "text": [
      "================================\u001b[1m Human Message \u001b[0m=================================\n",
      "\n",
      "My name is Zach.Can you do some research on cats in space?\n",
      "==================================\u001b[1m Ai Message \u001b[0m==================================\n",
      "Tool Calls:\n",
      "  tavily_search (call_c2AE0EzIC5cCU6FrS7w4AvhC)\n",
      " Call ID: call_c2AE0EzIC5cCU6FrS7w4AvhC\n",
      "  Args:\n",
      "    query: cats in space history\n",
      "=================================\u001b[1m Tool Message \u001b[0m=================================\n",
      "Name: tavily_search\n",
      "\n",
      "{\"query\": \"cats in space history\", \"follow_up_questions\": null, \"answer\": null, \"images\": [], \"results\": [{\"title\": \"The Untold Truth Of Felicette, The Only Cat Sent To Space\", \"url\": \"https://www.grunge.com/655838/the-untold-truth-of-felicette-the-only-cat-sent-to-space/\", \"content\": \"Throughout the entire history of spaceflight, only one cat has been successfully launched into space: a black-and-white female named Félicette in 1963.\", \"score\": 0.82254606, \"raw_content\": null}, {\"title\": \"Félicette - Wikipedia\", \"url\": \"https://en.wikipedia.org/wiki/Félicette\", \"content\": \"Félicette (French pronunciation: [felisɛt]) was a stray Parisian cat that became the first feline launched into space on 18 October 1963 as part of the French space program. She was one of 14 female cats trained for spaceflight. The cats had electrodes implanted into their skulls to monitor their neurological activity throughout the flight.\", \"score\": 0.82220376, \"raw_content\": null}], \"response_time\": 1.88}\n",
      "==================================\u001b[1m Ai Message \u001b[0m==================================\n",
      "\n",
      "In the history of spaceflight, only one cat has been successfully launched into space: Félicette, a black-and-white female cat. This occurred in 1963 as part of the French space program. Félicette, a stray Parisian cat, was trained along with 13 others and was chosen for this mission. Her flight was significant as it involved monitoring neurological activity through electrodes implanted in her skull. You can read more about her [here](https://www.grunge.com/655838/the-untold-truth-of-felicette-the-only-cat-sent-to-space/) or on [Wikipedia](https://en.wikipedia.org/wiki/Félicette).\n"
     ]
    }
   ],
   "source": [
    "config = {\"configurable\": {\"thread_id\": \"1\"}}\n",
    "events = graph.stream(\n",
    "    {\n",
    "        \"messages\": [\n",
    "            {\n",
    "                \"role\": \"user\",\n",
    "                \"content\": (\n",
    "                    \"My name is Zach.\"\n",
    "                    \"Can you do some research on cats in space?\"\n",
    "                ),\n",
    "            },\n",
    "        ],\n",
    "    },\n",
    "    config,\n",
    "    stream_mode=\"values\",\n",
    ")\n",
    "for event in events:\n",
    "    if \"messages\" in event:\n",
    "        event[\"messages\"][-1].pretty_print()"
   ]
  },
  {
   "cell_type": "markdown",
   "id": "b458162c",
   "metadata": {},
   "source": [
    "Add another step to the graph. "
   ]
  },
  {
   "cell_type": "code",
   "execution_count": 78,
   "id": "b818f964",
   "metadata": {},
   "outputs": [
    {
     "name": "stdout",
     "output_type": "stream",
     "text": [
      "================================\u001b[1m Human Message \u001b[0m=================================\n",
      "\n",
      "That sounds great. Maybe I can launch my own cat into space, too!\n",
      "==================================\u001b[1m Ai Message \u001b[0m==================================\n",
      "\n",
      "Launching a cat into space is a complex and ethically sensitive endeavor. It's important to consider the well-being and safety of animals in such situations. Félicette's mission occurred in a very different context and time, and current standards for animal welfare in experiments are much more stringent.\n",
      "\n",
      "If you're interested in space and want to involve animals, perhaps consider supporting or learning more about ethical scientific research that benefits both humans and animals. There are many ways to engage with space exploration without directly involving live animals.\n"
     ]
    }
   ],
   "source": [
    "events = graph.stream(\n",
    "    {\n",
    "        \"messages\": [\n",
    "            {\n",
    "                \"role\": \"user\",\n",
    "                \"content\": (\n",
    "                    \"That sounds great. Maybe I can launch my own\"\n",
    "                    \" cat into space, too!\"\n",
    "                ),\n",
    "            },\n",
    "        ],\n",
    "    },\n",
    "    config,\n",
    "    stream_mode=\"values\",\n",
    ")\n",
    "for event in events:\n",
    "    if \"messages\" in event:\n",
    "        event[\"messages\"][-1].pretty_print()"
   ]
  },
  {
   "cell_type": "markdown",
   "id": "f4416e60",
   "metadata": {},
   "source": [
    "Replaying the full state history:"
   ]
  },
  {
   "cell_type": "code",
   "execution_count": 86,
   "id": "a87daa49",
   "metadata": {},
   "outputs": [
    {
     "name": "stdout",
     "output_type": "stream",
     "text": [
      "Num Messages:  4 Next:  ()\n",
      "--------------------------------------------------------------------------------\n",
      "Num Messages:  6 Next:  ()\n",
      "--------------------------------------------------------------------------------\n",
      "Num Messages:  5 Next:  ('chatbot',)\n",
      "--------------------------------------------------------------------------------\n",
      "Num Messages:  4 Next:  ('__start__',)\n",
      "--------------------------------------------------------------------------------\n",
      "Num Messages:  4 Next:  ()\n",
      "--------------------------------------------------------------------------------\n",
      "Num Messages:  3 Next:  ('chatbot',)\n",
      "--------------------------------------------------------------------------------\n",
      "Num Messages:  2 Next:  ('tools',)\n",
      "--------------------------------------------------------------------------------\n",
      "Num Messages:  1 Next:  ('chatbot',)\n",
      "--------------------------------------------------------------------------------\n",
      "Num Messages:  0 Next:  ('__start__',)\n",
      "--------------------------------------------------------------------------------\n"
     ]
    }
   ],
   "source": [
    "to_replay = None\n",
    "for state in graph.get_state_history(config):\n",
    "    print(\"Num Messages: \", len(state.values[\"messages\"]), \"Next: \", state.next)\n",
    "    print(\"-\" * 80)\n",
    "    if len(state.values[\"messages\"]) == 6:\n",
    "        # We are somewhat arbitrarily selecting a specific state based on the number of chat messages in the state.\n",
    "        to_replay = state"
   ]
  },
  {
   "cell_type": "code",
   "execution_count": 87,
   "id": "31090ca6",
   "metadata": {},
   "outputs": [
    {
     "name": "stdout",
     "output_type": "stream",
     "text": [
      "()\n",
      "{'configurable': {'thread_id': '1', 'checkpoint_ns': '', 'checkpoint_id': '1f02f7e3-3db9-65ca-8006-7b3c97ca2eb5'}}\n",
      "==================================\u001b[1m Ai Message \u001b[0m==================================\n",
      "\n",
      "Launching a cat into space is a complex and ethically sensitive endeavor. It's important to consider the well-being and safety of animals in such situations. Félicette's mission occurred in a very different context and time, and current standards for animal welfare in experiments are much more stringent.\n",
      "\n",
      "If you're interested in space and want to involve animals, perhaps consider supporting or learning more about ethical scientific research that benefits both humans and animals. There are many ways to engage with space exploration without directly involving live animals.\n"
     ]
    }
   ],
   "source": [
    "print(to_replay.next)\n",
    "print(to_replay.config)\n",
    "\n",
    "# The `checkpoint_id` in the `to_replay.config` corresponds to a state we've persisted to our checkpointer.\n",
    "for event in graph.stream(None, to_replay.config, stream_mode=\"values\"):\n",
    "    if \"messages\" in event:\n",
    "        event[\"messages\"][-1].pretty_print()"
   ]
  },
  {
   "cell_type": "markdown",
   "id": "fbf6786a",
   "metadata": {},
   "source": [
    "## Run chatbot\n",
    "- We run a loop that calls a `stream_graph_updates` function. It looks like we update the graph with user messages using `.stream()` and get the last message of the \"messages\" array"
   ]
  },
  {
   "cell_type": "code",
   "execution_count": null,
   "id": "2c657a8f",
   "metadata": {},
   "outputs": [],
   "source": [
    "def stream_graph_updates(user_input: str):\n",
    "    for event in graph.stream(\n",
    "        input={\"messages\": [{\"role\": \"user\", \"content\": user_input}]},\n",
    "        config=config,\n",
    "        stream_mode=\"values\"\n",
    "        ):\n",
    "        if \"messages\" in event:\n",
    "            event[\"messages\"][-1].pretty_print()\n",
    "\n",
    "while True:\n",
    "    try:\n",
    "        user_input = input(\"User: \")\n",
    "        if user_input.lower() in [\"quit\", \"exit\", \"q\"]:\n",
    "            print(\"Goodbye!\")\n",
    "            break\n",
    "        stream_graph_updates(user_input)\n",
    "    except:\n",
    "        # fallback if input() is not available\n",
    "        user_input = \"What do you know about LangGraph?\"\n",
    "        print(\"User: \" + user_input)\n",
    "        stream_graph_updates(user_input)\n",
    "        break"
   ]
  }
 ],
 "metadata": {
  "kernelspec": {
   "display_name": "env",
   "language": "python",
   "name": "python3"
  },
  "language_info": {
   "codemirror_mode": {
    "name": "ipython",
    "version": 3
   },
   "file_extension": ".py",
   "mimetype": "text/x-python",
   "name": "python",
   "nbconvert_exporter": "python",
   "pygments_lexer": "ipython3",
   "version": "3.10.4"
  }
 },
 "nbformat": 4,
 "nbformat_minor": 5
}
