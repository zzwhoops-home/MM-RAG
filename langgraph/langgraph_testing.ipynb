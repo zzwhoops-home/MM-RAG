{
 "cells": [
  {
   "cell_type": "markdown",
   "id": "9e8523ba",
   "metadata": {},
   "source": [
    "# "
   ]
  },
  {
   "cell_type": "markdown",
   "id": "1b9a33ca",
   "metadata": {},
   "source": [
    "# LangGraph Testing\n",
    "I will be going through [this tutorial](https://langchain-ai.github.io/langgraph/tutorials/get-started/1-build-basic-chatbot/) to figure out how to build chatbots with LangGraph, and how that might be useful with PassionAI as well as learning it for internship work."
   ]
  },
  {
   "cell_type": "markdown",
   "id": "0f113082",
   "metadata": {},
   "source": [
    "## Importing packages & loading env"
   ]
  },
  {
   "cell_type": "code",
   "execution_count": 1,
   "id": "aaae988a",
   "metadata": {},
   "outputs": [],
   "source": [
    "from typing import Annotated\n",
    "\n",
    "from typing_extensions import TypedDict\n",
    "\n",
    "from langgraph.graph import StateGraph, START, END\n",
    "from langgraph.graph.message import add_messages\n",
    "from langchain.chat_models import init_chat_model\n",
    "from langchain_core.messages import ToolMessage\n",
    "\n",
    "import os, json\n",
    "from dotenv import load_dotenv\n",
    "\n",
    "from IPython.display import Image, display\n",
    "\n",
    "# load env\n",
    "load_dotenv()\n",
    "\n",
    "OPENAI_API_KEY = os.getenv(\"OPENAI_KEY\")\n",
    "TAVILY_API_KEY = os.getenv(\"TAVILY_KEY\")"
   ]
  },
  {
   "cell_type": "markdown",
   "id": "118370fa",
   "metadata": {},
   "source": [
    "## Setting up Basic LangGraph\n",
    "- Setting up `StateGraph` which will be the workflow of the chatbot\n",
    "- Setting `OPENAI_API_KEY` as an environment variable\n",
    "- Initializing `GPT-4o` chat model with `init_chat_model`"
   ]
  },
  {
   "cell_type": "code",
   "execution_count": 2,
   "id": "582445c0",
   "metadata": {},
   "outputs": [],
   "source": [
    "class State(TypedDict):\n",
    "    # Messages have the type \"list\". The `add_messages` function\n",
    "    # in the annotation defines how this state key should be updated\n",
    "    # (in this case, it appends messages to the list, rather than overwriting them)\n",
    "    messages: Annotated[list, add_messages]\n",
    "\n",
    "graph_builder = StateGraph(State)\n",
    "\n",
    "os.environ[\"OPENAI_API_KEY\"] = OPENAI_API_KEY\n",
    "llm = init_chat_model(\"openai:gpt-4o\")"
   ]
  },
  {
   "cell_type": "markdown",
   "id": "2f854b40",
   "metadata": {},
   "source": [
    "## Adding Nodes\n",
    "- Adding a chatbot node to the `StateGraph`\n",
    "    - `llm.invoke()` is the equivalent of making an API call to OpenAI (or the LLM of choice) and extracting the message content\n",
    "    - `state[\"messages\"]` is an instance of `State` we defined in the last code block\n",
    "    - The `graph_builder` above has `StateGraph(State)`, which means the StateGraph can receive a `State` as input and output an update to that `State`\n",
    "    - So, we return `\"messages\"` to update the `State`. The `add_messages` function when we defined `messages` as `Annotated` will append messages instead of overwriting\n",
    "    - We then finally add this function and associate it with a node we name \"chatbot\"\n",
    "- `START` defines the point where the chatbot will start per run\n",
    "    - `add_edge` defines a directed edge, otherwise the nodes are just floating around\n",
    "- We then compile from the graph builder"
   ]
  },
  {
   "cell_type": "code",
   "execution_count": 4,
   "id": "66f13bed",
   "metadata": {},
   "outputs": [],
   "source": [
    "def chatbot(state: State):\n",
    "    res = llm.invoke(state[\"messages\"])\n",
    "    return {\"messages\": [res]}\n",
    "\n",
    "# add node with name \"chatbot\" and function chatbot\n",
    "graph_builder.add_node(\"chatbot\", chatbot)\n",
    "graph_builder.add_edge(START, \"chatbot\") # start node\n",
    "\n",
    "# compile graph\n",
    "graph = graph_builder.compile()"
   ]
  },
  {
   "cell_type": "markdown",
   "id": "6842b7e5",
   "metadata": {},
   "source": [
    "Displaying graph separately so we don't try to add nodes twice in the same kernel instance."
   ]
  },
  {
   "cell_type": "code",
   "execution_count": 5,
   "id": "e5b00e93",
   "metadata": {},
   "outputs": [
    {
     "data": {
      "image/png": "[encoded data removed]",
      "text/plain": [
       "<IPython.core.display.Image object>"
      ]
     },
     "metadata": {},
     "output_type": "display_data"
    }
   ],
   "source": [
    "# display graph\n",
    "display(Image(graph.get_graph().draw_mermaid_png()))"
   ]
  },
  {
   "cell_type": "markdown",
   "id": "a28ed22c",
   "metadata": {},
   "source": [
    "## Part 2: LangGraph w/ Tavily Search\n",
    "- In this step we use `TavilySearch`, a package designed for searching for information an AI does not know\n",
    "- We create a new node with function `chatbot_tools`\n",
    "- We bind tools to the LLM (OpenAI in this case) with `llm.bind_tools(list of tools)`"
   ]
  },
  {
   "cell_type": "code",
   "execution_count": 3,
   "id": "026627a3",
   "metadata": {},
   "outputs": [],
   "source": [
    "from langchain_tavily import TavilySearch\n",
    "\n",
    "os.environ[\"TAVILY_API_KEY\"] = TAVILY_API_KEY\n",
    "tool = TavilySearch(max_results=2)\n",
    "tools = [tool]\n",
    "# tool.invoke(\"What is Trump's tariff equation?\")\n",
    "\n",
    "def chatbot_tools(state: State):\n",
    "    res = llm_with_tools.invoke(state[\"messages\"])\n",
    "    return {\"messages\": [res]}\n",
    "\n",
    "graph_builder = StateGraph(State)\n",
    "\n",
    "graph_builder.add_node(\"chatbot_tools\", chatbot_tools)\n",
    "graph_builder.add_edge(START, \"chatbot_tools\")\n",
    "\n",
    "# llm with tools\n",
    "llm_with_tools = llm.bind_tools(tools)"
   ]
  },
  {
   "cell_type": "markdown",
   "id": "2baa41e8",
   "metadata": {},
   "source": [
    "## Defining a Tool Node\n",
    "- We can use a prebuilt `ToolNode` but the following example shows what is going on underneath"
   ]
  },
  {
   "cell_type": "code",
   "execution_count": null,
   "id": "2de95ae0",
   "metadata": {},
   "outputs": [],
   "source": [
    "class BasicToolNode:\n",
    "    \"\"\"A node that runs the tools requested in the last AIMessage.\"\"\"\n",
    "\n",
    "    def __init__(self, tools: list) -> None:\n",
    "        self.tools_by_name = {tool.name: tool for tool in tools}\n",
    "\n",
    "    def __call__(self, inputs: dict):\n",
    "        if messages := inputs.get(\"messages\", []):\n",
    "            message = messages[-1]\n",
    "        else:\n",
    "            raise ValueError(\"No message found in input\")\n",
    "        outputs = []\n",
    "        for tool_call in message.tool_calls:\n",
    "            tool_result = self.tools_by_name[tool_call[\"name\"]].invoke(\n",
    "                tool_call[\"args\"]\n",
    "            )\n",
    "            outputs.append(\n",
    "                ToolMessage(\n",
    "                    content=json.dumps(tool_result),\n",
    "                    name=tool_call[\"name\"],\n",
    "                    tool_call_id=tool_call[\"id\"],\n",
    "                )\n",
    "            )\n",
    "        return {\"messages\": outputs}\n",
    "\n",
    "# create node and add it to our graph builder\n",
    "tool_node = BasicToolNode(tools=[tool])\n",
    "graph_builder.add_node(\"tools\", tool_node)\n",
    "\n",
    "def route_tools(\n",
    "    state: State,\n",
    "):\n",
    "    \"\"\"\n",
    "    Use in the conditional_edge to route to the ToolNode if the last message\n",
    "    has tool calls. Otherwise, route to the end.\n",
    "    \"\"\"\n",
    "    if isinstance(state, list):\n",
    "        ai_message = state[-1]\n",
    "    elif messages := state.get(\"messages\", []):\n",
    "        ai_message = messages[-1]\n",
    "    else:\n",
    "        raise ValueError(f\"No messages found in input state to tool_edge: {state}\")\n",
    "    if hasattr(ai_message, \"tool_calls\") and len(ai_message.tool_calls) > 0:\n",
    "        return \"tools\"\n",
    "    return END\n",
    "\n",
    "\n",
    "# The `tools_condition` function returns \"tools\" if the chatbot asks to use a tool, and \"END\" if\n",
    "# it is fine directly responding. This conditional routing defines the main agent loop.\n",
    "graph_builder.add_conditional_edges(\n",
    "    \"chatbot_tools\",\n",
    "    route_tools,\n",
    "    # The following dictionary lets you tell the graph to interpret the condition's outputs as a specific node\n",
    "    # It defaults to the identity function, but if you\n",
    "    # want to use a node named something else apart from \"tools\",\n",
    "    # You can update the value of the dictionary to something else\n",
    "    # e.g., \"tools\": \"my_tools\"\n",
    "    {\"tools\": \"tools\", END: END},\n",
    ")\n",
    "# Any time a tool is called, we return to the chatbot to decide the next step\n",
    "graph_builder.add_edge(\"tools\", \"chatbot_tools\")\n",
    "graph_builder.add_edge(START, \"chatbot_tools\")\n",
    "graph = graph_builder.compile()"
   ]
  },
  {
   "cell_type": "code",
   "execution_count": null,
   "id": "c9119961",
   "metadata": {},
   "outputs": [],
   "source": [
    "display(Image(graph.get_graph().draw_mermaid_png()))"
   ]
  },
  {
   "cell_type": "code",
   "execution_count": 8,
   "id": "5495e368",
   "metadata": {},
   "outputs": [
    {
     "data": {
      "image/png": "[encoded data removed]",
      "text/plain": [
       "<langgraph.graph.state.CompiledStateGraph object at 0x00000264125DE380>"
      ]
     },
     "execution_count": 8,
     "metadata": {},
     "output_type": "execute_result"
    }
   ],
   "source": [
    "graph"
   ]
  },
  {
   "cell_type": "markdown",
   "id": "fbf6786a",
   "metadata": {},
   "source": [
    "## Run chatbot\n",
    "- We run a loop that calls a `stream_graph_updates` function. It looks like we update the graph with user messages using `.stream()` and get the last message of the \"messages\" array"
   ]
  },
  {
   "cell_type": "code",
   "execution_count": null,
   "id": "2c657a8f",
   "metadata": {},
   "outputs": [],
   "source": [
    "def stream_graph_updates(user_input: str):\n",
    "    for event in graph.stream({\"messages\": [{\"role\": \"user\", \"content\": user_input}]}):\n",
    "        for value in event.values():\n",
    "            print(\"Assistant:\", value[\"messages\"][-1].content)\n",
    "\n",
    "while True:\n",
    "    try:\n",
    "        user_input = input(\"User: \")\n",
    "        if user_input.lower() in [\"quit\", \"exit\", \"q\"]:\n",
    "            print(\"Goodbye!\")\n",
    "            break\n",
    "        stream_graph_updates(user_input)\n",
    "    except:\n",
    "        # fallback if input() is not available\n",
    "        user_input = \"What do you know about LangGraph?\"\n",
    "        print(\"User: \" + user_input)\n",
    "        stream_graph_updates(user_input)\n",
    "        break"
   ]
  }
 ],
 "metadata": {
  "kernelspec": {
   "display_name": "env",
   "language": "python",
   "name": "python3"
  },
  "language_info": {
   "codemirror_mode": {
    "name": "ipython",
    "version": 3
   },
   "file_extension": ".py",
   "mimetype": "text/x-python",
   "name": "python",
   "nbconvert_exporter": "python",
   "pygments_lexer": "ipython3",
   "version": "3.10.4"
  }
 },
 "nbformat": 4,
 "nbformat_minor": 5
}
