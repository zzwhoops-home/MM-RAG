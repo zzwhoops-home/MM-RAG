{
 "cells": [
  {
   "cell_type": "markdown",
   "id": "673d19ed",
   "metadata": {},
   "source": [
    "# Pipeline Testing\n",
    "This file will be steps that will be required to convert uploaded files to MM vector embeddings using voyage-multimodal-3."
   ]
  },
  {
   "cell_type": "markdown",
   "id": "15905c8f",
   "metadata": {},
   "source": [
    "## Processing Files\n",
    "Taking uploaded files, converting to screenshot format.\n",
    "Needs to convert:\n",
    "- Text into screenshots\n",
    "- Images into screenshots without too much data\n",
    "- Audio should be transcribed & chunked, embed text and/or audio chunks\n",
    "- Video should have key frames sampled, transcribed audio"
   ]
  },
  {
   "cell_type": "code",
   "execution_count": null,
   "id": "06af7a13",
   "metadata": {},
   "outputs": [],
   "source": []
  }
 ],
 "metadata": {
  "language_info": {
   "name": "python"
  }
 },
 "nbformat": 4,
 "nbformat_minor": 5
}
